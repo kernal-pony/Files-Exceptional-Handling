{
 "cells": [
  {
   "cell_type": "markdown",
   "id": "b4d17e52-4043-4936-853d-835b426461b4",
   "metadata": {},
   "source": [
    "## 1. Discuss the scenarios where multithreading is preferable to multiprocessing and scenarios where multiprocessing is a better choice."
   ]
  },
  {
   "cell_type": "markdown",
   "id": "90089ce5-a1eb-43bb-a20c-737dfecd2c8f",
   "metadata": {},
   "source": [
    "Multithreading:\n",
    "* Best for I/O-bound tasks (e.g., handling multiple network requests).\n",
    "* Simpler data sharing within the same memory space.\n",
    "* Lower overhead than processes.\n",
    "* Good for tasks that need to interact frequently.\n"
   ]
  },
  {
   "cell_type": "markdown",
   "id": "94cea5b1-8af0-4b34-8f85-6d36eb1c48d1",
   "metadata": {},
   "source": [
    "Multiprocessing:\n",
    "* Best for CPU-bound tasks (e.g., heavy computations).\n",
    "* Processes are isolated, reducing risk of interference.\n",
    "* Bypasses Python’s GIL, allowing full use of multiple CPU cores.\n",
    "* Better for tasks requiring high resource management or fault isolation."
   ]
  },
  {
   "cell_type": "markdown",
   "id": "b05dd3e1-22b0-40c6-aedc-0d45a2631b4d",
   "metadata": {},
   "source": [
    "## 2.Describe what a process pool is and how it helps in managing multiple processes efficiently"
   ]
  },
  {
   "cell_type": "markdown",
   "id": "75e0d6ef-fc3a-4d7a-882e-3895aadbd1f6",
   "metadata": {},
   "source": [
    "Process Pool is collection of worker processors.\n",
    "\n",
    "It helps in managing multiple processes together by>>\n",
    "Fixing no of processes\n",
    "Distributing task among them \n",
    "Reusablitity of processes or Resourse management\n",
    "Simplified Parallalism(By using pool we  don't take care of creation and termination of process)"
   ]
  },
  {
   "cell_type": "markdown",
   "id": "975d23d1-7eb8-4eb3-9d49-e4b3f0775569",
   "metadata": {},
   "source": [
    "##  3.Explain what multiprocessing is and why it is used in Python programs"
   ]
  },
  {
   "cell_type": "markdown",
   "id": "4ce6edcb-fe1a-4b4a-b576-917eeb5e5150",
   "metadata": {},
   "source": [
    "\n",
    "What is Multiprocessing?\n",
    "Multiprocessing is a technique where a program runs multiple processes simultaneously. Each process operates independently and has its own memory space. This contrasts with multithreading, where threads share the same memory space within a single process.\n",
    "\n",
    "Why Use Multiprocessing in Python?\n",
    "Bypass the Global Interpreter Lock (GIL):\n",
    "\n",
    "Issue: Python’s Global Interpreter Lock (GIL) prevents multiple threads from executing Python code simultaneously in a single process, which limits concurrency for CPU-bound tasks.\n",
    "Solution: Multiprocessing creates separate processes, each with its own Python interpreter and memory space, allowing true parallelism and efficient use of multiple CPU cores.\n",
    "Isolation and Fault Tolerance:\n",
    "\n",
    "Issue: In a multithreaded environment, a crash or error in one thread can potentially affect others.\n",
    "Solution: Processes are isolated from each other. If one process crashes, it doesn’t affect others, providing better fault tolerance.\n",
    "Effective for CPU-Bound Tasks:\n",
    "\n",
    "Issue: For tasks that require a lot of CPU power (e.g., computations or data processing), multithreading might not be efficient due to the GIL.\n",
    "Solution: Multiprocessing can distribute CPU-bound tasks across multiple processes, each running on a separate CPU core, improving performance.\n",
    "Memory Management:\n",
    "\n",
    "Issue: Memory leaks or large memory usage in one thread can affect the entire process.\n",
    "Solution: Each process has its own memory space, so memory management issues are confined to that specific process.\n",
    "Example Use Case:\n",
    "Data Processing: If you’re processing large datasets, using multiprocessing can speed up the work by dividing the data into chunks and processing each chunk in a separate process."
   ]
  },
  {
   "cell_type": "markdown",
   "id": "90e9dbb7-99cc-4d03-87b3-e1264c7dc71e",
   "metadata": {},
   "source": [
    "## 4 . Write a Python program using multithreading where one thread adds numbers to a list, and another thread removes numbers from the list. Implement a mechanism to avoid race conditions using threading.Lock"
   ]
  },
  {
   "cell_type": "code",
   "execution_count": 3,
   "id": "31ef3376-9940-4609-89f6-45d803aefdc5",
   "metadata": {},
   "outputs": [
    {
     "name": "stdout",
     "output_type": "stream",
     "text": [
      "Added 1 to the list\n",
      "Removed 1 from the list\n",
      "Added 2 to the list\n",
      "Removed 2 from the list\n",
      "Added 3 to the list\n",
      "Added 4 to the list\n",
      "Removed 3 from the list\n",
      "Added 5 to the list\n",
      "Added 6 to the list\n",
      "Removed 4 from the list\n",
      "Added 7 to the list\n",
      "Added 8 to the list\n",
      "Removed 5 from the list\n",
      "Added 9 to the list\n",
      "Added 10 to the list\n",
      "Removed 6 from the list\n",
      "Removed 7 from the list\n",
      "Removed 8 from the list\n",
      "Removed 9 from the list\n",
      "Removed 10 from the list\n",
      "Final list: []\n"
     ]
    }
   ],
   "source": [
    "import threading\n",
    "import time\n",
    "\n",
    "# Shared list\n",
    "shared_list = []\n",
    "\n",
    "\n",
    "list_lock = threading.Lock()\n",
    "\n",
    "def add_numbers():\n",
    "    for i in range(1, 11):\n",
    "        with list_lock:\n",
    "            shared_list.append(i)\n",
    "            print(f\"Added {i} to the list\")\n",
    "        time.sleep(0.5)  # Simulate some delay\n",
    "\n",
    "def remove_numbers():\n",
    "    for i in range(1, 11):\n",
    "        with list_lock:\n",
    "            if shared_list:\n",
    "                removed = shared_list.pop(0)\n",
    "                print(f\"Removed {removed} from the list\")\n",
    "        time.sleep(1)  # Simulate some delay\n",
    "\n",
    "# Create threads\n",
    "adder_thread = threading.Thread(target=add_numbers)\n",
    "remover_thread = threading.Thread(target=remove_numbers)\n",
    "\n",
    "# Start threads\n",
    "adder_thread.start()\n",
    "remover_thread.start()\n",
    "\n",
    "# Wait for threads to complete\n",
    "adder_thread.join()\n",
    "remover_thread.join()\n",
    "\n",
    "print(\"Final list:\", shared_list)"
   ]
  },
  {
   "cell_type": "markdown",
   "id": "cb78f0b0-fc97-468f-9505-1629af3715a9",
   "metadata": {},
   "source": [
    "## 5. Describe the methods and tools available in Python for safely sharing data between threads and processes"
   ]
  },
  {
   "cell_type": "markdown",
   "id": "3fdca315-8991-43e9-9e40-220072f3184e",
   "metadata": {},
   "source": [
    "method helps to prevent threads to  access data  simultaneously.\n",
    "\n",
    "some method which are used in python are:\n",
    "\n",
    "1.threading.Lock\n",
    "\n",
    "2.multiprocessing.Queue"
   ]
  },
  {
   "cell_type": "markdown",
   "id": "1ccabfab-9724-4384-b826-99ba588537a5",
   "metadata": {},
   "source": [
    "Tools are the modules or classes in python to access method to implement funtionality .\n",
    "\n",
    "some tools used in python to safely share data between thread and processes are:\n",
    "\n",
    "1.threading\n",
    "\n",
    "2.queue\n",
    "\n",
    "3.multiprocessing"
   ]
  },
  {
   "cell_type": "markdown",
   "id": "cf573bb6-f22a-40f7-80b3-fa0db13dc7e5",
   "metadata": {},
   "source": [
    "## 6. Discuss why it’s crucial to handle exceptions in concurrent programs and the techniques available for doing so."
   ]
  },
  {
   "cell_type": "markdown",
   "id": "611ace88-5c10-4850-844d-4c9df0cfa8ff",
   "metadata": {},
   "source": [
    "Handling exceptions in concurrent programs is crucial for maintaining reliability, stability, and proper error management. Here’s why it’s important and how you can handle exceptions effectively:\n",
    "\n",
    "Why Handling Exceptions in Concurrent Programs is Crucial\n",
    "Error Isolation:\n",
    "\n",
    "Issue: In concurrent programs, an error in one thread or process might not directly affect others, but it can still lead to unexpected behavior or crashes.\n",
    "\n",
    "Importance: Proper exception handling ensures that errors are managed gracefully and do not compromise the integrity of the entire application.\n",
    "Resource Management:\n",
    "\n",
    "Issue: If an exception occurs and is not properly handled, it may result in resources (e.g., file handles, network connections) not being released properly.\n",
    "\n",
    "Importance: Exception handling ensures that resources are cleaned up properly, preventing leaks and ensuring efficient resource usage.\n",
    "Fault Tolerance:\n",
    "\n",
    "Issue: In a concurrent environment, some tasks might fail while others continue to run. Unhandled exceptions can halt the entire program or lead to inconsistent states.\n",
    "\n",
    "Importance: Handling exceptions allows the program to recover from failures and continue processing other tasks.\n",
    "Debugging and Maintenance:\n",
    "\n",
    "Issue: Uncaught exceptions can make debugging difficult as errors might propagate in unexpected ways.\n",
    "\n",
    "Importance: Clear and managed exception handling provides better error messages and logs, making it easier to diagnose and fix issues."
   ]
  },
  {
   "cell_type": "markdown",
   "id": "d259bbd3-5dd6-4f26-92bc-50a1ff39c5ec",
   "metadata": {},
   "source": [
    "Techniques for Handling Exceptions in Concurrent Programs\n",
    "Try-Except Blocks:\n",
    "\n",
    "Description: Use try and except blocks within threads or processes to catch and handle exceptions specific to that thread or process.\n",
    "\n",
    "Exception Handling in Threading:\n",
    "\n",
    "Description: In Python’s threading module, use try and except blocks in the target function of the thread. Also, use threading.Thread’s daemon attribute to ensure threads don’t block the program’s termination.\n",
    "\n",
    "Exception Handling in Multiprocessing:\n",
    "\n",
    "Description: In Python’s multiprocessing module, handle exceptions within the worker functions. Use process communication methods (e.g., Queue) to report exceptions to the main process.\n",
    "\n",
    "\n",
    "Custom Exception Handling Mechanisms:\n",
    "\n",
    "Description: Implement custom mechanisms to handle exceptions across multiple threads or processes. This might include logging exceptions, retrying failed tasks, or aggregating error reports.\n",
    "Example: Create a global exception handler that logs exceptions from various threads or processes, or use error reporting services.\n",
    "\n",
    "Using concurrent.futures:\n",
    "\n",
    "Description: The concurrent.futures module provides high-level interfaces for asynchronously executing functions. It includes mechanisms for handling exceptions using Future objects."
   ]
  },
  {
   "cell_type": "markdown",
   "id": "7c1b12f8-86bf-440e-9371-b204d84b9c3f",
   "metadata": {},
   "source": [
    "## 7. Create a program that uses a thread pool to calculate the factorial of numbers from 1 to 10 concurrently. Use concurrent.futures.ThreadPoolExecutor to manage the threads"
   ]
  },
  {
   "cell_type": "code",
   "execution_count": 4,
   "id": "82b8be14-4508-4ed3-ad59-9f7e82d349f1",
   "metadata": {},
   "outputs": [
    {
     "name": "stdout",
     "output_type": "stream",
     "text": [
      "The factorial of 1 is 1\n",
      "The factorial of 2 is 2\n",
      "The factorial of 3 is 6\n",
      "The factorial of 4 is 24\n",
      "The factorial of 5 is 120\n",
      "The factorial of 6 is 720\n",
      "The factorial of 7 is 5040\n",
      "The factorial of 8 is 40320\n",
      "The factorial of 9 is 362880\n",
      "The factorial of 10 is 3628800\n"
     ]
    }
   ],
   "source": [
    "import concurrent.futures\n",
    "import math\n",
    "\n",
    "def cal_factorial(num):\n",
    "    result = math.factorial(num)\n",
    "    print(f\"The factorial of {num} is {result}\")\n",
    "\n",
    "# List of numbers from 1 to 10\n",
    "numbers = list(range(1, 11))\n",
    "\n",
    "# Using ThreadPoolExecutor to calculate factorials concurrently\n",
    "with concurrent.futures.ThreadPoolExecutor() as executor:\n",
    "    executor.map(cal_factorial, numbers)"
   ]
  },
  {
   "cell_type": "markdown",
   "id": "2d9b7cb1-cb02-4d99-af6b-e01e6a0c35b7",
   "metadata": {},
   "source": [
    "## 8. Create a Python program that uses multiprocessing.Pool to compute the square of numbers from 1 to 10 in parallel. Measure the time taken to perform this computation using a pool of different sizes (e.g., 2, 4, 8 processes)"
   ]
  },
  {
   "cell_type": "code",
   "execution_count": 5,
   "id": "aac299b9-c71f-43bc-b434-0ad3eb94adcc",
   "metadata": {},
   "outputs": [
    {
     "name": "stdout",
     "output_type": "stream",
     "text": [
      "Pool size: 2, Time taken: 0.0272 seconds\n",
      "Pool size: 4, Time taken: 0.0390 seconds\n",
      "Pool size: 8, Time taken: 0.0683 seconds\n"
     ]
    }
   ],
   "source": [
    "\n",
    "import multiprocessing\n",
    "import time\n",
    "\n",
    "def square(n):\n",
    "    return n * n\n",
    "\n",
    "if __name__ == \"__main__\":\n",
    "    numbers = list(range(1, 11))\n",
    "    pool_sizes = [2, 4, 8]\n",
    "\n",
    "    for size in pool_sizes:\n",
    "        start_time = time.time()\n",
    "        with multiprocessing.Pool(processes=size) as pool:\n",
    "            results = pool.map(square, numbers)\n",
    "        end_time = time.time()\n",
    "        print(f\"Pool size: {size}, Time taken: {end_time - start_time:.4f} seconds\")"
   ]
  },
  {
   "cell_type": "code",
   "execution_count": null,
   "id": "0a965d83-e5db-4dfd-94f0-7970706a07cc",
   "metadata": {},
   "outputs": [],
   "source": []
  }
 ],
 "metadata": {
  "kernelspec": {
   "display_name": "Python 3 (ipykernel)",
   "language": "python",
   "name": "python3"
  },
  "language_info": {
   "codemirror_mode": {
    "name": "ipython",
    "version": 3
   },
   "file_extension": ".py",
   "mimetype": "text/x-python",
   "name": "python",
   "nbconvert_exporter": "python",
   "pygments_lexer": "ipython3",
   "version": "3.10.8"
  }
 },
 "nbformat": 4,
 "nbformat_minor": 5
}
